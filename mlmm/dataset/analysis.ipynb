{
 "cells": [
  {
   "cell_type": "code",
   "execution_count": 32,
   "metadata": {},
   "outputs": [],
   "source": [
    "import h5py\n",
    "import numpy as np\n",
    "CONV_UNIT_ENE = 627.5095\n",
    "CONV_UNIT_LEN    = 0.52917721092\n",
    "CONV_UNIT_FORCE  = CONV_UNIT_ENE / CONV_UNIT_LEN\n"
   ]
  },
  {
   "cell_type": "code",
   "execution_count": 29,
   "metadata": {},
   "outputs": [],
   "source": [
    "f1 = h5py.File('metrics.h5')\n",
    "f2 = h5py.File('pred.h5')\n",
    "f3 = h5py.File('../../exec_dir/SN2/label_new.h5')"
   ]
  },
  {
   "cell_type": "code",
   "execution_count": 26,
   "metadata": {},
   "outputs": [
    {
     "data": {
      "text/plain": [
       "<KeysViewHDF5 ['qm_charge', 'qm_energy', 'qm_force']>"
      ]
     },
     "execution_count": 26,
     "metadata": {},
     "output_type": "execute_result"
    }
   ],
   "source": [
    "f1.keys()\n",
    "f2.keys()"
   ]
  },
  {
   "cell_type": "code",
   "execution_count": 70,
   "metadata": {},
   "outputs": [
    {
     "data": {
      "text/plain": [
       "0.8896754633515404"
      ]
     },
     "execution_count": 70,
     "metadata": {},
     "output_type": "execute_result"
    }
   ],
   "source": [
    "#f1.get('amse_totene')[:]\n",
    "# f1.get('amse_totforce')[:]\n",
    "idx = np.random.randint(low=0,high=128000,size=64)\n",
    "(abs(np.squeeze(f2.get('qm_energy')[:][idx])*CONV_UNIT_ENE - f3.get('qm_energy')[:][idx])**2).mean()"
   ]
  }
 ],
 "metadata": {
  "interpreter": {
   "hash": "0a2d5db2d3d4647e1d56fc7e7f6a513e65637aad646feb5eed5fd1af48c7593e"
  },
  "kernelspec": {
   "display_name": "Python 3.8.11 64-bit ('pytorch': conda)",
   "language": "python",
   "name": "python3"
  },
  "language_info": {
   "codemirror_mode": {
    "name": "ipython",
    "version": 3
   },
   "file_extension": ".py",
   "mimetype": "text/x-python",
   "name": "python",
   "nbconvert_exporter": "python",
   "pygments_lexer": "ipython3",
   "version": "3.8.11"
  },
  "orig_nbformat": 4
 },
 "nbformat": 4,
 "nbformat_minor": 2
}
